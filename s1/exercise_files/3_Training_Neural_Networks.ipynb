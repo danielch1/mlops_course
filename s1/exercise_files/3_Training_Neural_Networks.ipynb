{
 "cells": [
  {
   "cell_type": "markdown",
   "metadata": {},
   "source": [
    "# Training Neural Networks\n",
    "\n",
    "The network we built in the previous part isn't so smart, it doesn't know anything about our handwritten digits. Neural networks with non-linear activations work like universal function approximators. There is some function that maps your input to the output. For example, images of handwritten digits to class probabilities. The power of neural networks is that we can train them to approximate this function, and basically any function given enough data and compute time.\n",
    "\n",
    "<img src=\"assets/function_approx.png\" width=500px>\n",
    "\n",
    "At first the network is naive, it doesn't know the function mapping the inputs to the outputs. We train the network by showing it examples of real data, then adjusting the network parameters such that it approximates this function.\n",
    "\n",
    "To find these parameters, we need to know how poorly the network is predicting the real outputs. For this we calculate a **loss function** (also called the cost), a measure of our prediction error. For example, the mean squared loss is often used in regression and binary classification problems\n",
    "\n",
    "$$\n",
    "\\large \\ell = \\frac{1}{2n}\\sum_i^n{\\left(y_i - \\hat{y}_i\\right)^2}\n",
    "$$\n",
    "\n",
    "where $n$ is the number of training examples, $y_i$ are the true labels, and $\\hat{y}_i$ are the predicted labels.\n",
    "\n",
    "By minimizing this loss with respect to the network parameters, we can find configurations where the loss is at a minimum and the network is able to predict the correct labels with high accuracy. We find this minimum using a process called **gradient descent**. The gradient is the slope of the loss function and points in the direction of fastest change. To get to the minimum in the least amount of time, we then want to follow the gradient (downwards). You can think of this like descending a mountain by following the steepest slope to the base.\n",
    "\n",
    "<img src='assets/gradient_descent.png' width=350px>"
   ]
  },
  {
   "cell_type": "markdown",
   "metadata": {},
   "source": [
    "## Backpropagation\n",
    "\n",
    "For single layer networks, gradient descent is straightforward to implement. However, it's more complicated for deeper, multilayer neural networks like the one we've built. Complicated enough that it took about 30 years before researchers figured out how to train multilayer networks.\n",
    "\n",
    "Training multilayer networks is done through **backpropagation** which is really just an application of the chain rule from calculus. It's easiest to understand if we convert a two layer network into a graph representation.\n",
    "\n",
    "<img src='assets/backprop_diagram.png' width=550px>\n",
    "\n",
    "In the forward pass through the network, our data and operations go from bottom to top here. We pass the input $x$ through a linear transformation $L_1$ with weights $W_1$ and biases $b_1$. The output then goes through the sigmoid operation $S$ and another linear transformation $L_2$. Finally we calculate the loss $\\ell$. We use the loss as a measure of how bad the network's predictions are. The goal then is to adjust the weights and biases to minimize the loss.\n",
    "\n",
    "To train the weights with gradient descent, we propagate the gradient of the loss backwards through the network. Each operation has some gradient between the inputs and outputs. As we send the gradients backwards, we multiply the incoming gradient with the gradient for the operation. Mathematically, this is really just calculating the gradient of the loss with respect to the weights using the chain rule.\n",
    "\n",
    "$$\n",
    "\\large \\frac{\\partial \\ell}{\\partial W_1} = \\frac{\\partial L_1}{\\partial W_1} \\frac{\\partial S}{\\partial L_1} \\frac{\\partial L_2}{\\partial S} \\frac{\\partial \\ell}{\\partial L_2}\n",
    "$$\n",
    "\n",
    "**Note:** I'm glossing over a few details here that require some knowledge of vector calculus, but they aren't necessary to understand what's going on.\n",
    "\n",
    "We update our weights using this gradient with some learning rate $\\alpha$. \n",
    "\n",
    "$$\n",
    "\\large W^\\prime_1 = W_1 - \\alpha \\frac{\\partial \\ell}{\\partial W_1}\n",
    "$$\n",
    "\n",
    "The learning rate $\\alpha$ is set such that the weight update steps are small enough that the iterative method settles in a minimum."
   ]
  },
  {
   "cell_type": "markdown",
   "metadata": {},
   "source": [
    "## Losses in PyTorch\n",
    "\n",
    "Let's start by seeing how we calculate the loss with PyTorch. Through the `nn` module, PyTorch provides losses such as the cross-entropy loss (`nn.CrossEntropyLoss`). You'll usually see the loss assigned to `criterion`. As noted in the last part, with a classification problem such as MNIST, we're using the softmax function to predict class probabilities. With a softmax output, you want to use cross-entropy as the loss. To actually calculate the loss, you first define the criterion then pass in the output of your network and the correct labels.\n",
    "\n",
    "Something really important to note here. Looking at [the documentation for `nn.CrossEntropyLoss`](https://pytorch.org/docs/stable/nn.html#torch.nn.CrossEntropyLoss),\n",
    "\n",
    "> This criterion combines `nn.LogSoftmax()` and `nn.NLLLoss()` in one single class.\n",
    ">\n",
    "> The input is expected to contain scores for each class.\n",
    "\n",
    "This means we need to pass in the raw output of our network into the loss, not the output of the softmax function. This raw output is usually called the *logits* or *scores*. We use the logits because softmax gives you probabilities which will often be very close to zero or one but floating-point numbers can't accurately represent values near zero or one ([read more here](https://docs.python.org/3/tutorial/floatingpoint.html)). It's usually best to avoid doing calculations with probabilities, typically we use log-probabilities."
   ]
  },
  {
   "cell_type": "code",
   "execution_count": 1,
   "metadata": {},
   "outputs": [],
   "source": [
    "import torch\n",
    "from torch import nn\n",
    "import torch.nn.functional as F\n",
    "from torchvision import datasets, transforms\n",
    "\n",
    "# Define a transform to normalize the data\n",
    "transform = transforms.Compose([transforms.ToTensor(),\n",
    "                                transforms.Normalize((0.5,), (0.5,)),\n",
    "                              ])\n",
    "# Download and load the training data\n",
    "trainset = datasets.MNIST('~/.pytorch/MNIST_data/', download=True, train=True, transform=transform)\n",
    "trainloader = torch.utils.data.DataLoader(trainset, batch_size=64, shuffle=True)"
   ]
  },
  {
   "cell_type": "markdown",
   "metadata": {},
   "source": [
    "### Note\n",
    "If you haven't seen `nn.Sequential` yet, please finish the end of the Part 2 notebook."
   ]
  },
  {
   "cell_type": "code",
   "execution_count": 2,
   "metadata": {},
   "outputs": [
    {
     "name": "stdout",
     "output_type": "stream",
     "text": [
      "tensor(2.3354, grad_fn=<NllLossBackward0>)\n"
     ]
    }
   ],
   "source": [
    "# Build a feed-forward network\n",
    "model = nn.Sequential(nn.Linear(784, 128),\n",
    "                      nn.ReLU(),\n",
    "                      nn.Linear(128, 64),\n",
    "                      nn.ReLU(),\n",
    "                      nn.Linear(64, 10))\n",
    "\n",
    "# Define the loss\n",
    "criterion = nn.CrossEntropyLoss()\n",
    "\n",
    "# Get our data\n",
    "dataiter = iter(trainloader)\n",
    "\n",
    "images, labels = next(dataiter)\n",
    "\n",
    "# Flatten images\n",
    "images = images.view(images.shape[0], -1)\n",
    "\n",
    "# Forward pass, get our logits\n",
    "logits = model(images)\n",
    "# Calculate the loss with the logits and the labels\n",
    "loss = criterion(logits, labels)\n",
    "\n",
    "print(loss)"
   ]
  },
  {
   "cell_type": "code",
   "execution_count": 3,
   "metadata": {},
   "outputs": [
    {
     "data": {
      "text/plain": [
       "tensor([[ 3.3080e-02,  1.6691e-01,  2.3488e-01,  2.0382e-02, -1.6112e-01,\n",
       "          4.5389e-02, -7.4982e-02, -1.3871e-01,  2.4955e-01, -1.2980e-01],\n",
       "        [ 3.4185e-02,  8.0494e-02,  1.0071e-01,  4.0836e-02, -1.4895e-01,\n",
       "          9.1030e-02, -8.1013e-02, -1.2152e-01,  1.8911e-01, -1.5292e-01],\n",
       "        [ 8.5324e-02,  1.5666e-01,  1.8629e-01,  7.5186e-02, -1.4014e-01,\n",
       "          1.6470e-01, -5.4375e-02, -1.1638e-01,  2.0165e-01, -5.3807e-02],\n",
       "        [ 8.2300e-02,  1.7093e-01,  1.0554e-01,  8.4916e-02, -2.1185e-01,\n",
       "          5.3289e-02, -3.6633e-03, -5.7914e-02,  1.8170e-01, -3.6094e-02],\n",
       "        [ 4.6836e-02,  2.2705e-01,  1.6869e-01,  4.9434e-02, -1.5545e-01,\n",
       "          1.5612e-01,  1.8495e-02, -5.0137e-02,  1.2045e-01, -8.5057e-02],\n",
       "        [ 1.1541e-01,  1.8889e-01,  2.0762e-01,  2.1900e-02, -2.0156e-01,\n",
       "          1.0270e-01, -8.2062e-02, -5.0565e-02,  2.4465e-01, -7.2701e-02],\n",
       "        [ 8.8431e-02,  9.1429e-02,  2.6399e-01,  9.2176e-02, -1.7370e-01,\n",
       "          1.6887e-01, -1.0744e-01, -1.6347e-01,  2.1727e-01, -3.9295e-02],\n",
       "        [ 1.2375e-01,  2.3909e-01,  1.8057e-01,  8.6077e-02, -1.9494e-01,\n",
       "          1.0933e-01, -2.6071e-02, -8.5373e-02,  2.0155e-01, -1.7959e-02],\n",
       "        [ 8.3309e-02,  2.6031e-01,  2.1521e-01,  1.1598e-01, -1.9919e-01,\n",
       "          1.3398e-01, -2.4043e-02, -7.4258e-02,  1.8739e-01, -3.3765e-02],\n",
       "        [ 5.3504e-02,  2.1107e-01,  2.2396e-01,  6.1285e-02, -1.8414e-01,\n",
       "          2.1421e-01, -2.9548e-02, -8.3828e-02,  1.6334e-01, -6.1913e-02],\n",
       "        [ 1.0434e-01,  3.1120e-01,  7.6732e-02,  1.8961e-02, -1.7384e-01,\n",
       "          5.5869e-02, -5.3710e-02, -8.0825e-02,  1.9307e-01, -8.2144e-02],\n",
       "        [ 2.6394e-02,  9.4861e-02,  8.3630e-02,  1.0397e-01, -1.9607e-01,\n",
       "          5.3730e-02, -6.2298e-02, -1.0647e-01,  1.9059e-01, -1.1600e-01],\n",
       "        [-2.3118e-02,  1.4513e-01,  2.5975e-01,  5.0516e-02, -1.3285e-01,\n",
       "          1.8013e-01, -4.7003e-02, -9.5939e-02,  1.8116e-01, -7.8081e-02],\n",
       "        [ 6.3883e-02,  2.4162e-01,  8.9539e-02, -1.6125e-02, -1.8373e-01,\n",
       "         -4.2490e-03, -1.0271e-01, -5.3501e-02,  1.7082e-01, -1.0904e-01],\n",
       "        [ 4.2799e-02,  1.4938e-01,  7.2002e-02,  4.2159e-02, -2.1029e-01,\n",
       "          5.5410e-02, -1.2270e-01, -1.4647e-01,  2.2862e-01, -1.6060e-01],\n",
       "        [ 2.8076e-02,  1.8984e-01,  2.2881e-01,  3.6626e-02, -2.1063e-01,\n",
       "          7.7674e-02, -6.2243e-02, -7.4680e-02,  2.2990e-01, -1.0507e-01],\n",
       "        [ 6.4209e-02,  2.3704e-01,  7.3497e-02,  1.3329e-02, -2.0678e-01,\n",
       "          1.9417e-02,  1.0288e-02, -4.4221e-02,  1.8661e-01, -3.0174e-02],\n",
       "        [ 8.4680e-02,  1.9015e-01,  2.1371e-01,  4.4143e-02, -1.6950e-01,\n",
       "          1.6951e-01, -5.6898e-02, -3.4446e-02,  1.8132e-01, -6.7230e-02],\n",
       "        [ 3.2975e-02,  1.3841e-01,  1.5448e-01,  3.2721e-02, -1.9275e-01,\n",
       "          6.2116e-02, -2.0130e-02, -1.1765e-01,  1.6081e-01, -1.1918e-01],\n",
       "        [ 6.4526e-02,  6.2199e-02,  1.8570e-02, -6.0051e-02, -2.2538e-01,\n",
       "          3.6854e-02, -1.5509e-01, -1.3991e-01,  1.4828e-01, -1.7064e-01],\n",
       "        [ 9.9535e-02,  2.3692e-01,  4.9569e-02,  2.1173e-02, -2.5221e-01,\n",
       "          5.3750e-03, -5.6304e-02, -3.7384e-02,  1.7235e-01, -6.2914e-02],\n",
       "        [ 3.6903e-02,  2.3835e-01,  1.1717e-01,  3.2112e-02, -1.7162e-01,\n",
       "          1.6595e-01, -1.1912e-01, -4.8098e-02,  2.1344e-01, -1.4902e-01],\n",
       "        [ 1.9156e-02,  1.3681e-01,  2.2124e-01,  6.8872e-02, -1.2648e-01,\n",
       "          1.2388e-01, -7.3378e-02, -1.3445e-01,  1.9764e-01, -9.0558e-02],\n",
       "        [ 7.4446e-02,  1.2965e-01,  1.6582e-01,  5.0507e-02, -1.2379e-01,\n",
       "          1.4581e-01, -9.6676e-02, -6.7601e-02,  1.9130e-01, -8.6502e-02],\n",
       "        [ 4.9002e-02,  1.7134e-01,  3.9353e-02,  3.5466e-02, -2.0385e-01,\n",
       "         -1.4437e-02, -1.0535e-01, -1.1610e-01,  1.7733e-01, -1.3381e-01],\n",
       "        [ 8.1782e-02,  1.9791e-01,  3.0785e-01,  6.7421e-02, -1.8216e-01,\n",
       "          1.6334e-01, -9.2931e-02, -7.4176e-02,  2.4542e-01, -8.5980e-02],\n",
       "        [ 9.9154e-02,  2.8960e-01,  2.3693e-01, -7.0638e-03, -1.8712e-01,\n",
       "          1.8567e-01, -7.9517e-02, -1.2192e-01,  2.6573e-01, -1.8334e-01],\n",
       "        [ 8.1210e-02,  2.7362e-01,  1.5007e-01,  3.2584e-02, -1.8607e-01,\n",
       "          7.1185e-02, -6.7639e-02, -3.9903e-02,  2.2698e-01, -6.8119e-02],\n",
       "        [ 8.5669e-02,  2.0579e-01,  2.4517e-01,  4.8548e-02, -2.1927e-01,\n",
       "          1.4842e-01, -7.0682e-02, -7.1374e-02,  2.2614e-01, -7.8298e-02],\n",
       "        [ 4.4886e-02,  1.8517e-01,  1.7788e-01,  7.4365e-02, -1.6820e-01,\n",
       "          1.1338e-01, -6.2440e-02, -1.3436e-01,  2.6930e-01, -1.1298e-01],\n",
       "        [ 4.3089e-02,  1.9416e-01,  1.7982e-01,  6.1133e-02, -1.8793e-01,\n",
       "          9.3581e-02, -1.0246e-01, -6.9530e-02,  2.5026e-01, -9.7550e-02],\n",
       "        [ 1.4017e-01,  1.1299e-01,  2.6490e-01,  9.3855e-02, -1.7624e-01,\n",
       "          2.0595e-01, -6.9785e-02, -5.0948e-02,  2.4025e-01, -1.0457e-02],\n",
       "        [ 6.6969e-02,  2.2364e-01,  1.4042e-01,  5.0826e-02, -1.7749e-01,\n",
       "          8.6296e-02, -4.2306e-02, -7.8476e-02,  1.8537e-01, -7.7573e-02],\n",
       "        [ 5.6822e-02,  2.3006e-01,  1.2113e-01, -3.9322e-02, -1.6947e-01,\n",
       "          1.5307e-01, -1.2455e-01, -1.0141e-01,  1.5106e-01, -1.2179e-01],\n",
       "        [ 7.0828e-02,  1.4599e-01,  6.9538e-02,  2.7557e-04, -2.7222e-01,\n",
       "         -2.5381e-02, -8.1725e-02, -5.9880e-02,  2.0653e-01, -7.6938e-02],\n",
       "        [ 1.0288e-01,  1.5885e-01,  1.0455e-01, -4.9034e-02, -2.0946e-01,\n",
       "          1.3957e-01, -1.4652e-01, -4.4985e-02,  1.3817e-01, -1.6050e-01],\n",
       "        [ 3.2276e-02,  1.4263e-01,  1.3350e-01,  6.4559e-02, -1.7891e-01,\n",
       "          8.2088e-02, -1.1173e-02, -8.3335e-02,  1.9414e-01, -7.0284e-02],\n",
       "        [ 9.8303e-02,  1.6731e-01,  2.2150e-01,  8.6613e-02, -1.5155e-01,\n",
       "          1.2075e-01, -7.7186e-02, -4.7903e-02,  2.1761e-01, -5.8630e-02],\n",
       "        [ 8.5080e-02,  2.3276e-01,  1.0089e-01,  3.2742e-02, -2.0399e-01,\n",
       "          7.1442e-02, -6.8902e-02, -7.1471e-02,  1.6636e-01, -5.2254e-02],\n",
       "        [ 8.9907e-02,  1.9982e-01,  1.6759e-01,  3.3590e-02, -1.5441e-01,\n",
       "          8.2603e-02, -4.5554e-02, -5.9235e-02,  2.2727e-01, -8.1393e-02],\n",
       "        [ 4.7487e-02,  1.7663e-01,  1.7970e-01,  5.9340e-02, -1.9337e-01,\n",
       "          1.1005e-01, -9.5370e-02, -8.3900e-02,  2.1486e-01, -1.0661e-01],\n",
       "        [ 1.7803e-01,  9.8394e-02,  3.0901e-02,  7.8641e-02, -2.4038e-01,\n",
       "          6.6717e-02,  1.1614e-02, -6.5490e-02,  1.3592e-01, -4.7870e-02],\n",
       "        [ 1.6781e-02,  1.0404e-01,  2.3805e-01,  5.1025e-02, -1.6173e-01,\n",
       "          6.0668e-02, -7.9254e-02, -4.7492e-02,  2.7060e-01, -9.8446e-02],\n",
       "        [ 4.5197e-02,  1.1227e-01,  2.6109e-01,  3.9273e-02, -1.5848e-01,\n",
       "          1.2229e-01, -1.2179e-01, -1.2767e-01,  2.0084e-01, -1.2857e-01],\n",
       "        [ 8.0611e-02,  2.5390e-01,  1.1222e-01, -3.5306e-02, -1.8724e-01,\n",
       "         -5.1270e-02, -1.5786e-01, -6.7119e-02,  2.9726e-01, -1.7838e-01],\n",
       "        [ 5.3984e-02,  5.5685e-02,  2.3531e-01,  1.1095e-01, -1.4543e-01,\n",
       "          1.5305e-01, -4.6719e-02, -9.9803e-02,  2.5728e-01, -5.8337e-02],\n",
       "        [ 3.3023e-02,  1.3031e-01,  2.3288e-01,  6.0133e-02, -1.7762e-01,\n",
       "          1.6561e-01, -6.2749e-02, -4.0767e-02,  1.7163e-01, -9.2300e-02],\n",
       "        [ 6.5557e-02,  1.0050e-01,  1.3474e-01,  1.0062e-02, -1.9907e-01,\n",
       "          1.1271e-01, -5.3184e-02, -1.2629e-01,  1.3997e-01, -9.0155e-02],\n",
       "        [ 1.0299e-01,  2.7117e-01,  1.4415e-01,  6.6648e-02, -2.4231e-01,\n",
       "          8.9236e-02,  1.7124e-02, -2.7595e-02,  1.2318e-01, -3.1851e-02],\n",
       "        [ 2.4593e-02,  1.6978e-01,  2.5918e-01,  5.0706e-02, -1.7479e-01,\n",
       "          1.2287e-01, -1.9532e-02, -3.7315e-02,  1.8559e-01, -9.5558e-02],\n",
       "        [ 2.6935e-02,  2.1329e-01,  1.4800e-01,  7.6487e-02, -1.7005e-01,\n",
       "          1.2213e-01, -3.7848e-02, -4.9992e-02,  1.4646e-01, -5.9153e-02],\n",
       "        [ 3.8252e-02,  2.3214e-01,  1.7280e-01,  3.7741e-02, -1.7214e-01,\n",
       "          3.2546e-02, -7.1254e-02, -1.0630e-01,  2.6564e-01, -1.3675e-01],\n",
       "        [ 4.3332e-02,  2.4094e-01,  1.8046e-01,  4.0262e-02, -1.9526e-01,\n",
       "          7.2564e-02, -6.1434e-02, -9.4153e-02,  2.3806e-01, -1.3140e-01],\n",
       "        [ 1.1602e-01,  2.1485e-01,  9.8051e-02,  4.4646e-02, -1.7692e-01,\n",
       "          1.1433e-01, -1.5525e-02, -5.2446e-02,  1.4673e-01, -4.6522e-02],\n",
       "        [ 3.3258e-02,  1.4045e-01,  2.6665e-01,  5.9960e-02, -1.7636e-01,\n",
       "          8.0053e-02, -2.7960e-02, -1.1018e-01,  2.5905e-01, -1.1175e-01],\n",
       "        [ 1.9519e-02,  2.1744e-01,  2.6994e-01,  5.0528e-02, -1.5293e-01,\n",
       "          1.0801e-01, -4.9279e-02, -2.8475e-02,  2.5413e-01, -1.3084e-01],\n",
       "        [ 6.1014e-02,  1.0442e-01, -8.1635e-03, -7.4139e-02, -2.4386e-01,\n",
       "         -6.7616e-02, -9.1141e-02, -9.8265e-02,  1.4540e-01, -1.3636e-01],\n",
       "        [ 3.6550e-02,  2.0349e-01,  6.6398e-02,  4.7716e-02, -2.3052e-01,\n",
       "          3.4145e-02, -1.1342e-01, -1.2888e-01,  2.0702e-01, -1.4489e-01],\n",
       "        [-3.8313e-03,  9.8857e-02,  2.8259e-01,  7.3575e-02, -1.6847e-01,\n",
       "          1.9567e-01, -7.2357e-02, -1.2565e-01,  2.0036e-01, -1.0161e-01],\n",
       "        [ 2.3267e-02,  2.2303e-01,  1.2512e-01,  2.0589e-02, -2.2287e-01,\n",
       "          9.6495e-02, -9.5859e-02, -7.8877e-02,  2.1307e-01, -1.4703e-01],\n",
       "        [ 1.6127e-03,  7.9832e-02,  1.5156e-01,  3.0543e-02, -1.1627e-01,\n",
       "          8.3964e-02,  4.1250e-02, -9.7725e-02,  1.7022e-01, -1.3733e-01],\n",
       "        [ 3.2546e-02,  1.5317e-01,  1.3128e-01, -7.7107e-03, -1.7788e-01,\n",
       "          9.7906e-02, -6.6225e-02, -7.5213e-02,  1.5288e-01, -1.4149e-01],\n",
       "        [ 3.9760e-02,  1.7042e-01,  1.8787e-01,  3.5628e-02, -1.9911e-01,\n",
       "          9.2302e-02, -5.1785e-02, -8.0681e-02,  1.9893e-01, -1.0700e-01],\n",
       "        [ 5.3567e-02,  2.2922e-01,  7.1565e-02,  6.0201e-02, -1.5906e-01,\n",
       "          1.2226e-01,  3.3073e-02, -5.0093e-02,  1.5463e-01, -4.7765e-02]],\n",
       "       grad_fn=<AddmmBackward0>)"
      ]
     },
     "execution_count": 3,
     "metadata": {},
     "output_type": "execute_result"
    }
   ],
   "source": [
    "logits"
   ]
  },
  {
   "cell_type": "markdown",
   "metadata": {},
   "source": [
    "In my experience it's more convenient to build the model with a log-softmax output using `nn.LogSoftmax` or `F.log_softmax` ([documentation](https://pytorch.org/docs/stable/nn.html#torch.nn.LogSoftmax)). Then you can get the actual probabilities by taking the exponential `torch.exp(output)`. With a log-softmax output, you want to use the negative log likelihood loss, `nn.NLLLoss` ([documentation](https://pytorch.org/docs/stable/nn.html#torch.nn.NLLLoss)).\n",
    "\n",
    ">**Exercise:** Build a model that returns the log-softmax as the output and calculate the loss using the negative log likelihood loss. Note that for `nn.LogSoftmax` and `F.log_softmax` you'll need to set the `dim` keyword argument appropriately. `dim=0` calculates softmax across the rows, so each column sums to 1, while `dim=1` calculates across the columns so each row sums to 1. Think about what you want the output to be and choose `dim` appropriately."
   ]
  },
  {
   "cell_type": "code",
   "execution_count": 4,
   "metadata": {},
   "outputs": [
    {
     "name": "stdout",
     "output_type": "stream",
     "text": [
      "tensor(2.3396, grad_fn=<NllLossBackward0>)\n"
     ]
    }
   ],
   "source": [
    "# TODO: Build a feed-forward network\n",
    "model = nn.Sequential(nn.Linear(784, 128),\n",
    "                      nn.ReLU(),\n",
    "                      nn.Linear(128, 64),\n",
    "                      nn.ReLU(),\n",
    "                      nn.Linear(64, 10),\n",
    "                      nn.LogSoftmax(dim = 1))\n",
    "\n",
    "# TODO: Define the loss\n",
    "criterion = nn.NLLLoss()\n",
    "\n",
    "### Run this to check your work\n",
    "# Get our data\n",
    "dataiter = iter(trainloader)\n",
    "\n",
    "images, labels = next(dataiter)\n",
    "\n",
    "# Flatten images\n",
    "images = images.view(images.shape[0], -1)\n",
    "\n",
    "# Forward pass, get our logits\n",
    "logits = model(images)\n",
    "# Calculate the loss with the logits and the labels\n",
    "loss = criterion(logits, labels)\n",
    "\n",
    "print(loss)"
   ]
  },
  {
   "cell_type": "markdown",
   "metadata": {},
   "source": [
    "## Autograd\n",
    "\n",
    "Now that we know how to calculate a loss, how do we use it to perform backpropagation? Torch provides a module, `autograd`, for automatically calculating the gradients of tensors. We can use it to calculate the gradients of all our parameters with respect to the loss. Autograd works by keeping track of operations performed on tensors, then going backwards through those operations, calculating gradients along the way. To make sure PyTorch keeps track of operations on a tensor and calculates the gradients, you need to set `requires_grad = True` on a tensor. You can do this at creation with the `requires_grad` keyword, or at any time with `x.requires_grad_(True)`.\n",
    "\n",
    "You can turn off gradients for a block of code with the `torch.no_grad()` content:\n",
    "```python\n",
    "x = torch.zeros(1, requires_grad=True)\n",
    ">>> with torch.no_grad():\n",
    "...     y = x * 2\n",
    ">>> y.requires_grad\n",
    "False\n",
    "```\n",
    "\n",
    "Also, you can turn on or off gradients altogether with `torch.set_grad_enabled(True|False)`.\n",
    "\n",
    "The gradients are computed with respect to some variable `z` with `z.backward()`. This does a backward pass through the operations that created `z`."
   ]
  },
  {
   "cell_type": "code",
   "execution_count": 5,
   "metadata": {},
   "outputs": [
    {
     "name": "stdout",
     "output_type": "stream",
     "text": [
      "tensor([[ 1.7577, -0.3806],\n",
      "        [-0.9898,  1.0988]], requires_grad=True)\n"
     ]
    }
   ],
   "source": [
    "x = torch.randn(2,2, requires_grad=True)\n",
    "print(x)"
   ]
  },
  {
   "cell_type": "code",
   "execution_count": 6,
   "metadata": {},
   "outputs": [
    {
     "name": "stdout",
     "output_type": "stream",
     "text": [
      "tensor([[3.0894, 0.1448],\n",
      "        [0.9798, 1.2073]], grad_fn=<PowBackward0>)\n"
     ]
    }
   ],
   "source": [
    "y = x**2\n",
    "print(y)"
   ]
  },
  {
   "cell_type": "markdown",
   "metadata": {},
   "source": [
    "Below we can see the operation that created `y`, a power operation `PowBackward0`."
   ]
  },
  {
   "cell_type": "code",
   "execution_count": 7,
   "metadata": {},
   "outputs": [
    {
     "name": "stdout",
     "output_type": "stream",
     "text": [
      "<PowBackward0 object at 0x00000186A07BE980>\n"
     ]
    }
   ],
   "source": [
    "## grad_fn shows the function that generated this variable\n",
    "print(y.grad_fn)"
   ]
  },
  {
   "cell_type": "markdown",
   "metadata": {},
   "source": [
    "The autograd module keeps track of these operations and knows how to calculate the gradient for each one. In this way, it's able to calculate the gradients for a chain of operations, with respect to any one tensor. Let's reduce the tensor `y` to a scalar value, the mean."
   ]
  },
  {
   "cell_type": "code",
   "execution_count": 8,
   "metadata": {},
   "outputs": [
    {
     "name": "stdout",
     "output_type": "stream",
     "text": [
      "tensor(1.3553, grad_fn=<MeanBackward0>)\n"
     ]
    }
   ],
   "source": [
    "z = y.mean()\n",
    "print(z)"
   ]
  },
  {
   "cell_type": "markdown",
   "metadata": {},
   "source": [
    "You can check the gradients for `x` and `y` but they are empty currently."
   ]
  },
  {
   "cell_type": "code",
   "execution_count": 9,
   "metadata": {},
   "outputs": [
    {
     "name": "stdout",
     "output_type": "stream",
     "text": [
      "None\n"
     ]
    }
   ],
   "source": [
    "print(x.grad)"
   ]
  },
  {
   "cell_type": "markdown",
   "metadata": {},
   "source": [
    "To calculate the gradients, you need to run the `.backward` method on a Variable, `z` for example. This will calculate the gradient for `z` with respect to `x`\n",
    "\n",
    "$$\n",
    "\\frac{\\partial z}{\\partial x} = \\frac{\\partial}{\\partial x}\\left[\\frac{1}{n}\\sum_i^n x_i^2\\right] = \\frac{x}{2}\n",
    "$$"
   ]
  },
  {
   "cell_type": "code",
   "execution_count": 10,
   "metadata": {},
   "outputs": [
    {
     "name": "stdout",
     "output_type": "stream",
     "text": [
      "tensor([[ 0.8788, -0.1903],\n",
      "        [-0.4949,  0.5494]])\n",
      "tensor([[ 0.8788, -0.1903],\n",
      "        [-0.4949,  0.5494]], grad_fn=<DivBackward0>)\n"
     ]
    }
   ],
   "source": [
    "z.backward()\n",
    "print(x.grad)\n",
    "print(x/2)"
   ]
  },
  {
   "cell_type": "markdown",
   "metadata": {},
   "source": [
    "These gradient calculations are particularly useful for neural networks. For training we need the gradients of the cost with respect to the weights. With PyTorch, we run data forward through the network to calculate the loss, then, go backwards to calculate the gradients with respect to the loss. Once we have the gradients we can make a gradient descent step. "
   ]
  },
  {
   "cell_type": "markdown",
   "metadata": {},
   "source": [
    "## Loss and Autograd together\n",
    "\n",
    "When we create a network with PyTorch, all of the parameters are initialized with `requires_grad = True`. This means that when we calculate the loss and call `loss.backward()`, the gradients for the parameters are calculated. These gradients are used to update the weights with gradient descent. Below you can see an example of calculating the gradients using a backwards pass."
   ]
  },
  {
   "cell_type": "code",
   "execution_count": 11,
   "metadata": {},
   "outputs": [],
   "source": [
    "# Build a feed-forward network\n",
    "model = nn.Sequential(nn.Linear(784, 128),\n",
    "                      nn.ReLU(),\n",
    "                      nn.Linear(128, 64),\n",
    "                      nn.ReLU(),\n",
    "                      nn.Linear(64, 10),\n",
    "                      nn.LogSoftmax(dim=1))\n",
    "\n",
    "criterion = nn.NLLLoss()\n",
    "dataiter = iter(trainloader)\n",
    "images, labels = next(dataiter)\n",
    "images = images.view(images.shape[0], -1)\n",
    "\n",
    "logits = model(images)\n",
    "loss = criterion(logits, labels)"
   ]
  },
  {
   "cell_type": "code",
   "execution_count": 12,
   "metadata": {},
   "outputs": [
    {
     "name": "stdout",
     "output_type": "stream",
     "text": [
      "Before backward pass: \n",
      " None\n",
      "After backward pass: \n",
      " tensor([[-0.0022, -0.0022, -0.0022,  ..., -0.0022, -0.0022, -0.0022],\n",
      "        [ 0.0000,  0.0000,  0.0000,  ...,  0.0000,  0.0000,  0.0000],\n",
      "        [ 0.0000,  0.0000,  0.0000,  ...,  0.0000,  0.0000,  0.0000],\n",
      "        ...,\n",
      "        [ 0.0018,  0.0018,  0.0018,  ...,  0.0018,  0.0018,  0.0018],\n",
      "        [ 0.0036,  0.0036,  0.0036,  ...,  0.0036,  0.0036,  0.0036],\n",
      "        [-0.0009, -0.0009, -0.0009,  ..., -0.0009, -0.0009, -0.0009]])\n"
     ]
    }
   ],
   "source": [
    "print('Before backward pass: \\n', model[0].weight.grad)\n",
    "\n",
    "loss.backward()\n",
    "\n",
    "print('After backward pass: \\n', model[0].weight.grad)"
   ]
  },
  {
   "cell_type": "markdown",
   "metadata": {},
   "source": [
    "## Training the network!\n",
    "\n",
    "There's one last piece we need to start training, an optimizer that we'll use to update the weights with the gradients. We get these from PyTorch's [`optim` package](https://pytorch.org/docs/stable/optim.html). For example we can use stochastic gradient descent with `optim.SGD`. You can see how to define an optimizer below."
   ]
  },
  {
   "cell_type": "code",
   "execution_count": 13,
   "metadata": {},
   "outputs": [],
   "source": [
    "from torch import optim\n",
    "\n",
    "# Optimizers require the parameters to optimize and a learning rate\n",
    "optimizer = optim.SGD(model.parameters(), lr=0.01)"
   ]
  },
  {
   "cell_type": "markdown",
   "metadata": {},
   "source": [
    "Now we know how to use all the individual parts so it's time to see how they work together. Let's consider just one learning step before looping through all the data. The general process with PyTorch:\n",
    "\n",
    "* Make a forward pass through the network \n",
    "* Use the network output to calculate the loss\n",
    "* Perform a backward pass through the network with `loss.backward()` to calculate the gradients\n",
    "* Take a step with the optimizer to update the weights\n",
    "\n",
    "Below I'll go through one training step and print out the weights and gradients so you can see how it changes. Note that I have a line of code `optimizer.zero_grad()`. When you do multiple backwards passes with the same parameters, the gradients are accumulated. This means that you need to zero the gradients on each training pass or you'll retain gradients from previous training batches."
   ]
  },
  {
   "cell_type": "code",
   "execution_count": 14,
   "metadata": {},
   "outputs": [
    {
     "name": "stdout",
     "output_type": "stream",
     "text": [
      "Initial weights -  Parameter containing:\n",
      "tensor([[ 0.0324, -0.0104, -0.0146,  ...,  0.0114,  0.0124, -0.0113],\n",
      "        [ 0.0242, -0.0263, -0.0210,  ..., -0.0180,  0.0018,  0.0018],\n",
      "        [ 0.0077,  0.0350,  0.0070,  ...,  0.0249, -0.0201, -0.0258],\n",
      "        ...,\n",
      "        [ 0.0133,  0.0214, -0.0309,  ...,  0.0297,  0.0221, -0.0004],\n",
      "        [ 0.0293, -0.0350, -0.0292,  ...,  0.0141,  0.0205,  0.0326],\n",
      "        [ 0.0202,  0.0338,  0.0123,  ...,  0.0070,  0.0213, -0.0173]],\n",
      "       requires_grad=True)\n",
      "Gradient - tensor([[-0.0004, -0.0004, -0.0004,  ..., -0.0004, -0.0004, -0.0004],\n",
      "        [ 0.0000,  0.0000,  0.0000,  ...,  0.0000,  0.0000,  0.0000],\n",
      "        [ 0.0000,  0.0000,  0.0000,  ...,  0.0000,  0.0000,  0.0000],\n",
      "        ...,\n",
      "        [ 0.0006,  0.0006,  0.0006,  ...,  0.0006,  0.0006,  0.0006],\n",
      "        [ 0.0031,  0.0031,  0.0031,  ...,  0.0031,  0.0031,  0.0031],\n",
      "        [-0.0019, -0.0019, -0.0019,  ..., -0.0019, -0.0019, -0.0019]])\n"
     ]
    }
   ],
   "source": [
    "print('Initial weights - ', model[0].weight)\n",
    "\n",
    "dataiter = iter(trainloader)\n",
    "images, labels = next(dataiter)\n",
    "images.resize_(64, 784)\n",
    "\n",
    "# Clear the gradients, do this because gradients are accumulated\n",
    "optimizer.zero_grad()\n",
    "\n",
    "# Forward pass, then backward pass, then update weights\n",
    "output = model(images)\n",
    "loss = criterion(output, labels)\n",
    "loss.backward()\n",
    "print('Gradient -', model[0].weight.grad)"
   ]
  },
  {
   "cell_type": "code",
   "execution_count": 15,
   "metadata": {},
   "outputs": [
    {
     "name": "stdout",
     "output_type": "stream",
     "text": [
      "Updated weights -  Parameter containing:\n",
      "tensor([[ 0.0324, -0.0104, -0.0146,  ...,  0.0114,  0.0124, -0.0113],\n",
      "        [ 0.0242, -0.0263, -0.0210,  ..., -0.0180,  0.0018,  0.0018],\n",
      "        [ 0.0077,  0.0350,  0.0070,  ...,  0.0249, -0.0201, -0.0258],\n",
      "        ...,\n",
      "        [ 0.0133,  0.0214, -0.0309,  ...,  0.0297,  0.0221, -0.0004],\n",
      "        [ 0.0293, -0.0350, -0.0292,  ...,  0.0141,  0.0205,  0.0326],\n",
      "        [ 0.0202,  0.0338,  0.0123,  ...,  0.0071,  0.0213, -0.0173]],\n",
      "       requires_grad=True)\n"
     ]
    }
   ],
   "source": [
    "# Take an update step and view the new weights\n",
    "optimizer.step()\n",
    "print('Updated weights - ', model[0].weight)"
   ]
  },
  {
   "cell_type": "markdown",
   "metadata": {},
   "source": [
    "### Training for real\n",
    "\n",
    "Now we'll put this algorithm into a loop so we can go through all the images. Some nomenclature, one pass through the entire dataset is called an *epoch*. So here we're going to loop through `trainloader` to get our training batches. For each batch, we'll doing a training pass where we calculate the loss, do a backwards pass, and update the weights.\n",
    "\n",
    ">**Exercise:** Implement the training pass for our network. If you implemented it correctly, you should see the training loss drop with each epoch."
   ]
  },
  {
   "cell_type": "code",
   "execution_count": 21,
   "metadata": {},
   "outputs": [
    {
     "data": {
      "application/vnd.jupyter.widget-view+json": {
       "model_id": "08ff9ae1536f494681a9956a40519c43",
       "version_major": 2,
       "version_minor": 0
      },
      "text/plain": [
       "  0%|          | 0/3 [00:00<?, ?it/s]"
      ]
     },
     "metadata": {},
     "output_type": "display_data"
    },
    {
     "name": "stdout",
     "output_type": "stream",
     "text": [
      "Epoch: 1\n",
      "Training loss: 1.6334712106281761\n",
      "Epoch: 2\n",
      "Training loss: 0.5766122008977669\n",
      "Epoch: 3\n",
      "Training loss: 0.408009906217996\n"
     ]
    }
   ],
   "source": [
    "## Your solution here\n",
    "\n",
    "model = nn.Sequential(nn.Linear(784, 128),\n",
    "                      nn.ReLU(),\n",
    "                      nn.Linear(128, 64),\n",
    "                      nn.ReLU(),\n",
    "                      nn.Linear(64, 10),\n",
    "                      nn.LogSoftmax(dim=1))\n",
    "\n",
    "criterion = nn.NLLLoss()\n",
    "optimizer = optim.SGD(model.parameters(), lr=0.005)\n",
    "\n",
    "epochs = 3\n",
    "\n",
    "from tqdm.notebook import tqdm\n",
    "for e in tqdm(range(epochs)):\n",
    "    print(f'Epoch: {e+1}')\n",
    "    running_loss = 0\n",
    "    for images, labels in trainloader:\n",
    "        # Flatten MNIST images into a 784 long vector\n",
    "        images = images.view(images.shape[0], -1)\n",
    "        \n",
    "        optimizer.zero_grad()\n",
    "\n",
    "        # TODO: Training pass\n",
    "        output = model(images)\n",
    "        loss = criterion(output, labels)\n",
    "        loss.backward()\n",
    "\n",
    "        optimizer.step()\n",
    "        # print(f'Loss: {loss}')\n",
    "        \n",
    "        running_loss += loss.item()\n",
    "    else:\n",
    "        print(f\"Training loss: {running_loss/len(trainloader)}\")"
   ]
  },
  {
   "cell_type": "markdown",
   "metadata": {},
   "source": [
    "With the network trained, we can check out it's predictions."
   ]
  },
  {
   "cell_type": "code",
   "execution_count": 26,
   "metadata": {},
   "outputs": [
    {
     "data": {
      "image/png": "[encoded data removed]",
      "text/plain": [
       "<Figure size 600x900 with 2 Axes>"
      ]
     },
     "metadata": {},
     "output_type": "display_data"
    }
   ],
   "source": [
    "%matplotlib inline\n",
    "import helper\n",
    "\n",
    "dataiter = iter(trainloader)\n",
    "images, labels = next(dataiter)\n",
    "\n",
    "img = images[0].view(1, 784)\n",
    "# Turn off gradients to speed up this part\n",
    "with torch.no_grad():\n",
    "    logps = model(img)\n",
    "\n",
    "# Output of the network are log-probabilities, need to take exponential for probabilities\n",
    "ps = torch.exp(logps)\n",
    "helper.view_classify(img.view(1, 28, 28), ps)"
   ]
  },
  {
   "cell_type": "markdown",
   "metadata": {},
   "source": [
    "Now our network is (almost) brilliant (we train and \"test\" on the same data) . It can accurately predict the digits in our images. Next up you'll write the code for training a neural network on a more complex dataset."
   ]
  }
 ],
 "metadata": {
  "kernelspec": {
   "display_name": "Python 3",
   "language": "python",
   "name": "python3"
  },
  "language_info": {
   "codemirror_mode": {
    "name": "ipython",
    "version": 3
   },
   "file_extension": ".py",
   "mimetype": "text/x-python",
   "name": "python",
   "nbconvert_exporter": "python",
   "pygments_lexer": "ipython3",
   "version": "3.11.3"
  }
 },
 "nbformat": 4,
 "nbformat_minor": 2
}
